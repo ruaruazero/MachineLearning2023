{
 "cells": [
  {
   "cell_type": "code",
   "execution_count": 1,
   "outputs": [],
   "source": [
    "import scipy.io as scio\n",
    "import numpy as np"
   ],
   "metadata": {
    "collapsed": false,
    "ExecuteTime": {
     "start_time": "2023-04-23T16:02:45.518643Z",
     "end_time": "2023-04-23T16:02:45.694923Z"
    }
   }
  },
  {
   "cell_type": "code",
   "execution_count": 2,
   "outputs": [],
   "source": [
    "data = scio.loadmat(\"./ex6data3.mat\")\n",
    "X = np.array(data[\"X\"])\n",
    "y = np.array(data[\"y\"])"
   ],
   "metadata": {
    "collapsed": false,
    "ExecuteTime": {
     "start_time": "2023-04-23T16:02:46.543142Z",
     "end_time": "2023-04-23T16:02:46.556601Z"
    }
   }
  },
  {
   "cell_type": "code",
   "execution_count": 4,
   "outputs": [
    {
     "data": {
      "text/plain": "array([[-1.58986e-01,  4.23977e-01],\n       [-3.47926e-01,  4.70760e-01],\n       [-5.04608e-01,  3.53801e-01],\n       [-5.96774e-01,  1.14035e-01],\n       [-5.18433e-01, -1.72515e-01],\n       [-2.92627e-01, -2.07602e-01],\n       [-1.58986e-01, -4.38596e-02],\n       [-5.76037e-02,  1.43275e-01],\n       [-7.14286e-02,  2.71930e-01],\n       [-2.97235e-01,  3.47953e-01],\n       [-4.17051e-01,  2.01754e-01],\n       [-4.40092e-01,  8.77193e-03],\n       [-3.24885e-01, -3.21637e-02],\n       [-2.46544e-01,  5.55556e-02],\n       [-2.18894e-01,  2.01754e-01],\n       [-3.43318e-01,  1.60819e-01],\n       [-5.09217e-01,  7.89474e-02],\n       [-3.84793e-01, -9.06433e-02],\n       [-1.49770e-01,  1.25731e-01],\n       [-1.95853e-01,  3.24561e-01],\n       [-3.91705e-02, -2.19298e-01],\n       [-1.08295e-01, -3.01170e-01],\n       [-1.86636e-01, -3.30409e-01],\n       [-2.18894e-01, -4.23977e-01],\n       [-8.06452e-02, -5.64327e-01],\n       [ 6.68203e-02, -5.17544e-01],\n       [ 9.44700e-02, -3.24561e-01],\n       [ 1.86636e-01, -1.66667e-01],\n       [ 6.22120e-02, -7.30994e-02],\n       [ 2.07373e-02, -1.95906e-01],\n       [ 2.99539e-02, -3.42105e-01],\n       [-9.90783e-02, -3.77193e-01],\n       [-6.91244e-03, -4.64912e-01],\n       [ 1.31336e-01, -4.29825e-01],\n       [ 2.32719e-01, -1.95906e-01],\n       [ 8.52535e-02, -8.47953e-02],\n       [-1.31336e-01, -2.36842e-01],\n       [ 2.30415e-03, -1.25731e-01],\n       [ 1.22120e-01, -2.92398e-03],\n       [-3.47926e-01, -3.12865e-01],\n       [-2.28111e-01, -1.25731e-01],\n       [-7.60369e-02,  1.46199e-02],\n       [ 4.37788e-02,  2.04678e-02],\n       [ 1.15207e-02,  1.54971e-01],\n       [-4.17051e-01, -1.60819e-01],\n       [-3.15668e-01, -3.18713e-01],\n       [ 1.26728e-01, -2.19298e-01],\n       [ 2.05069e-01, -3.12865e-01],\n       [ 2.18894e-01, -4.59064e-01],\n       [ 7.14286e-02, -6.46199e-01],\n       [-1.31336e-01, -6.05263e-01],\n       [-2.09677e-01, -5.81871e-01],\n       [-2.28111e-01, -4.29825e-01],\n       [-1.45161e-01, -4.12281e-01],\n       [-6.68203e-02, -4.82456e-01],\n       [ 1.35945e-01, -5.11696e-01],\n       [ 2.69585e-01, -4.06433e-01],\n       [ 2.97235e-01, -2.95322e-01],\n       [ 2.74194e-01, -1.72515e-01],\n       [ 2.55760e-01, -4.97076e-02],\n       [ 2.23502e-01, -4.97076e-02],\n       [ 1.82028e-01, -8.47953e-02],\n       [ 1.58986e-01, -1.54971e-01],\n       [ 7.14286e-02, -2.13450e-01],\n       [ 1.61290e-02, -2.66082e-01],\n       [-2.53456e-02, -3.83041e-01],\n       [-1.15207e-02, -4.82456e-01],\n       [-2.30415e-03, -5.05848e-01],\n       [ 2.53456e-02, -5.11696e-01],\n       [ 2.53456e-02, -5.58480e-01],\n       [ 1.15207e-02, -6.57895e-01],\n       [-4.83871e-02, -6.46199e-01],\n       [-8.52535e-02, -5.52632e-01],\n       [-9.90783e-02, -5.00000e-01],\n       [-1.61290e-02, -4.23977e-01],\n       [ 1.31336e-01, -3.59649e-01],\n       [ 2.23502e-01, -3.71345e-01],\n       [ 2.92627e-01, -3.01170e-01],\n       [ 2.60369e-01, -2.07602e-01],\n       [ 2.00461e-01, -2.25146e-01],\n       [ 1.72811e-01, -2.71930e-01],\n       [-1.31336e-01,  9.06433e-02],\n       [-1.49770e-01,  7.30994e-02],\n       [-2.41935e-01,  6.14035e-02],\n       [-3.01843e-01,  1.78363e-01],\n       [-2.97235e-01,  1.95906e-01],\n       [-2.74194e-01,  3.07018e-01],\n       [-3.24885e-01,  2.95322e-01],\n       [-3.98618e-01,  2.66082e-01],\n       [-4.35484e-01,  1.60819e-01],\n       [-4.72350e-01,  7.89474e-02],\n       [-3.38710e-01,  4.38596e-02],\n       [-2.69585e-01,  4.38596e-02],\n       [-2.55760e-01,  1.02339e-01],\n       [-1.68203e-01,  2.66082e-01],\n       [-1.12903e-01,  3.01170e-01],\n       [-3.91705e-02,  3.47953e-01],\n       [-1.26728e-01,  4.41520e-01],\n       [-2.32719e-01,  4.41520e-01],\n       [-3.38710e-01,  4.18129e-01],\n       [-4.12442e-01,  3.53801e-01],\n       [-5.09217e-01,  2.19298e-01],\n       [-5.41475e-01,  1.46199e-02],\n       [-5.04608e-01, -1.25731e-01],\n       [-4.90783e-01, -1.43275e-01],\n       [-3.61751e-01, -1.37427e-01],\n       [-2.69585e-01, -8.47953e-02],\n       [-2.23502e-01, -7.89474e-02],\n       [-1.86636e-01, -3.80117e-02],\n       [-1.54378e-01, -8.77193e-03],\n       [-1.12903e-01,  5.55556e-02],\n       [-8.52535e-02,  1.37427e-01],\n       [-8.52535e-02,  2.77778e-01],\n       [-1.68203e-01,  3.01170e-01],\n       [-1.91244e-01,  1.95906e-01],\n       [-1.40553e-01, -4.97076e-02],\n       [-2.99539e-02,  6.72515e-02],\n       [-2.00461e-01, -2.30994e-01],\n       [-1.08295e-01, -8.47953e-02],\n       [ 3.45622e-02,  6.72515e-02],\n       [ 8.06452e-02,  1.19883e-01],\n       [-3.85369e-01,  3.30409e-02],\n       [-3.81221e-01,  1.31287e-01],\n       [-3.52189e-01,  2.58187e-01],\n       [-3.54263e-01,  3.64620e-01],\n       [-4.14401e-01, -6.92982e-02],\n       [-4.99424e-01, -3.24561e-02],\n       [-2.98272e-01, -9.79532e-02],\n       [-3.16935e-01, -1.83918e-01],\n       [-3.68779e-01, -2.90351e-01],\n       [-3.56336e-01, -3.96784e-01],\n       [-2.71313e-01,  4.38596e-03],\n       [-1.77995e-01,  8.62573e-02],\n       [-2.46429e-01,  1.43567e-01],\n       [-2.50576e-01,  2.29532e-01],\n       [-2.21544e-01,  3.76901e-01],\n       [-2.15323e-01,  2.95029e-01],\n       [-1.30300e-01,  2.17251e-01],\n       [-2.07028e-01,  2.89474e-02],\n       [-9.71198e-02,  2.13158e-01],\n       [-3.90553e-02,  2.58187e-01],\n       [ 1.90092e-02,  4.01462e-01],\n       [-3.69816e-02,  4.21930e-01],\n       [-6.39401e-02,  3.31871e-01],\n       [-1.30300e-01,  3.76901e-01],\n       [-3.75000e-01, -4.37719e-01],\n       [-3.95737e-01, -3.51754e-01],\n       [-3.54263e-01, -2.08480e-01],\n       [-4.37212e-01, -3.76316e-01],\n       [-4.80760e-01, -5.03216e-01],\n       [-4.10253e-01, -4.66374e-01],\n       [-2.48502e-01, -2.57602e-01],\n       [-2.27765e-01, -3.14912e-01],\n       [-2.83756e-01, -3.84503e-01],\n       [-2.92051e-01, -4.54094e-01],\n       [-3.37673e-01, -5.19591e-01],\n       [-2.77535e-01, -5.48246e-01],\n       [-2.07028e-01, -5.35965e-01],\n       [-1.86290e-01, -4.78655e-01],\n       [-1.32373e-01, -5.07310e-01],\n       [-1.77995e-01, -2.98538e-01],\n       [-1.65553e-01, -1.75731e-01],\n       [-1.61406e-01, -1.26608e-01],\n       [ 3.45622e-04,  2.58187e-01],\n       [ 7.91475e-02,  3.56433e-01],\n       [-2.66129e-02,  1.80409e-01],\n       [-5.35714e-02,  7.80702e-02],\n       [-1.41705e-02, -5.29240e-02],\n       [-7.01613e-02, -1.63450e-01],\n       [-6.39401e-02, -2.94444e-01],\n       [-3.07604e-02, -4.66374e-01],\n       [-5.77189e-02, -5.27778e-01],\n       [-5.35714e-02, -3.96784e-01],\n       [ 5.21889e-02, -4.17251e-01],\n       [-1.62442e-02, -1.67544e-01],\n       [-6.39401e-02, -8.56725e-02],\n       [-6.18664e-02, -1.60819e-02],\n       [-3.80184e-03,  4.38596e-03],\n       [ 4.18203e-02,  2.04971e-01],\n       [ 7.91475e-02,  1.92690e-01],\n       [ 4.59677e-02,  2.54094e-01],\n       [ 1.18548e-01,  1.92690e-01],\n       [ 1.10253e-01,  8.62573e-02],\n       [ 1.08180e-01, -6.92982e-02],\n       [ 1.66244e-01, -2.42690e-02],\n       [ 1.41359e-01,  6.57895e-02],\n       [ 1.43433e-01,  1.68129e-01],\n       [ 1.70392e-01,  1.92690e-01],\n       [ 1.08180e-01,  2.99123e-01],\n       [ 1.18548e-01,  3.19591e-01],\n       [ 1.26843e-01,  3.93275e-01],\n       [-8.67512e-02,  4.21930e-01],\n       [-4.73502e-02,  5.07895e-01],\n       [ 2.52304e-02,  5.20175e-01],\n       [ 6.25576e-02,  5.52924e-01],\n       [-5.87558e-03,  4.42398e-01],\n       [-5.14977e-02,  5.73392e-01],\n       [-8.05300e-02,  5.07895e-01],\n       [-1.53111e-01,  5.52924e-01],\n       [-1.11636e-01,  5.48830e-01],\n       [-1.63479e-01,  4.91520e-01],\n       [-2.52650e-01, -1.88012e-01],\n       [-2.46429e-01, -3.65497e-02],\n       [-3.21083e-01, -4.33626e-01],\n       [-3.31452e-01, -6.05556e-01],\n       [-3.85369e-01, -5.15497e-01],\n       [-3.99885e-01, -6.21930e-01],\n       [-1.24078e-01, -1.26608e-01],\n       [-3.16935e-01, -2.28947e-01],\n       [-2.94124e-01, -1.34795e-01],\n       [-1.53111e-01,  1.84503e-01]])"
     },
     "execution_count": 4,
     "metadata": {},
     "output_type": "execute_result"
    }
   ],
   "source": [
    "X"
   ],
   "metadata": {
    "collapsed": false,
    "ExecuteTime": {
     "start_time": "2023-04-23T16:02:51.840908Z",
     "end_time": "2023-04-23T16:02:51.846003Z"
    }
   }
  },
  {
   "cell_type": "code",
   "execution_count": 6,
   "outputs": [
    {
     "data": {
      "text/plain": "dict_keys(['__header__', '__version__', '__globals__', 'X', 'y', 'yval', 'Xval'])"
     },
     "execution_count": 6,
     "metadata": {},
     "output_type": "execute_result"
    }
   ],
   "source": [
    "data.keys()"
   ],
   "metadata": {
    "collapsed": false,
    "ExecuteTime": {
     "start_time": "2023-04-23T16:03:07.306783Z",
     "end_time": "2023-04-23T16:03:07.314122Z"
    }
   }
  },
  {
   "cell_type": "code",
   "execution_count": 35,
   "outputs": [
    {
     "data": {
      "text/plain": "0.086405"
     },
     "execution_count": 35,
     "metadata": {},
     "output_type": "execute_result"
    }
   ],
   "source": [
    "X[50, 0]"
   ],
   "metadata": {
    "collapsed": false
   }
  },
  {
   "cell_type": "code",
   "execution_count": 37,
   "outputs": [
    {
     "data": {
      "text/plain": "0.086405"
     },
     "execution_count": 37,
     "metadata": {},
     "output_type": "execute_result"
    }
   ],
   "source": [
    "X.T[0,50]"
   ],
   "metadata": {
    "collapsed": false
   }
  },
  {
   "cell_type": "code",
   "execution_count": 38,
   "outputs": [
    {
     "data": {
      "text/plain": "array([24.97893298, 20.0680993 , 29.70921762, 21.21261761, 20.95309584,\n       26.31994469, 23.19259277, 32.7380789 , 24.08729445, 27.82098568,\n       26.64443405, 19.07020985, 20.1095428 , 24.2269348 , 19.30728089,\n       28.54121569, 28.35094105, 27.0569945 , 22.70894845, 20.21464674,\n       13.78217906, 14.3062813 , 11.56536378, 12.53573138, 14.08776857,\n       14.9209157 , 14.5443449 , 10.31439058, 11.96818858,  7.7388877 ,\n        9.58544725,  6.90579482, 12.10262677, 11.86714781,  9.64942954,\n        8.63606133,  6.33490002,  8.118568  ,  9.93810425,  9.65486948,\n       12.42692386, 11.76221969, 14.06644362,  9.81373364, 12.96909245,\n       11.6689018 ,  6.98923429, 14.78616098,  9.9371314 ,  7.29456783,\n       16.85438607])"
     },
     "execution_count": 38,
     "metadata": {},
     "output_type": "execute_result"
    }
   ],
   "source": [
    "np.sum(X ** 2, axis=1)"
   ],
   "metadata": {
    "collapsed": false
   }
  },
  {
   "cell_type": "code",
   "execution_count": 39,
   "outputs": [
    {
     "data": {
      "text/plain": "array([[1],\n       [1],\n       [1],\n       [1],\n       [1],\n       [1],\n       [1],\n       [1],\n       [1],\n       [1],\n       [1],\n       [1],\n       [1],\n       [1],\n       [1],\n       [1],\n       [1],\n       [1],\n       [1],\n       [1],\n       [0],\n       [0],\n       [0],\n       [0],\n       [0],\n       [0],\n       [0],\n       [0],\n       [0],\n       [0],\n       [0],\n       [0],\n       [0],\n       [0],\n       [0],\n       [0],\n       [0],\n       [0],\n       [0],\n       [0],\n       [0],\n       [0],\n       [0],\n       [0],\n       [0],\n       [0],\n       [0],\n       [0],\n       [0],\n       [0],\n       [1]], dtype=uint8)"
     },
     "execution_count": 39,
     "metadata": {},
     "output_type": "execute_result"
    }
   ],
   "source": [
    "y"
   ],
   "metadata": {
    "collapsed": false
   }
  },
  {
   "cell_type": "code",
   "execution_count": 40,
   "outputs": [],
   "source": [
    "al = np.ones(X.shape[0])"
   ],
   "metadata": {
    "collapsed": false
   }
  },
  {
   "cell_type": "code",
   "execution_count": 42,
   "outputs": [
    {
     "data": {
      "text/plain": "array([[1., 1., 1., ..., 1., 1., 1.],\n       [1., 1., 1., ..., 1., 1., 1.],\n       [1., 1., 1., ..., 1., 1., 1.],\n       ...,\n       [0., 0., 0., ..., 0., 0., 0.],\n       [0., 0., 0., ..., 0., 0., 0.],\n       [1., 1., 1., ..., 1., 1., 1.]])"
     },
     "execution_count": 42,
     "metadata": {},
     "output_type": "execute_result"
    }
   ],
   "source": [
    "al * y"
   ],
   "metadata": {
    "collapsed": false
   }
  },
  {
   "cell_type": "code",
   "execution_count": 44,
   "outputs": [
    {
     "data": {
      "text/plain": "99.99999999999999"
     },
     "execution_count": 44,
     "metadata": {},
     "output_type": "execute_result"
    }
   ],
   "source": [
    "np.power(0.1, -2)"
   ],
   "metadata": {
    "collapsed": false
   }
  },
  {
   "cell_type": "code",
   "execution_count": 47,
   "outputs": [],
   "source": [
    "from matplotlib import pyplot as plt\n",
    "from plotData import plot_data"
   ],
   "metadata": {
    "collapsed": false
   }
  },
  {
   "cell_type": "code",
   "execution_count": 48,
   "outputs": [
    {
     "name": "stdout",
     "output_type": "stream",
     "text": [
      "Loading and Visualizing Data ...\n"
     ]
    },
    {
     "data": {
      "text/plain": "<Figure size 640x480 with 1 Axes>",
      "image/png": "[encoded data removed]"
     },
     "metadata": {},
     "output_type": "display_data"
    },
    {
     "data": {
      "text/plain": "''"
     },
     "execution_count": 48,
     "metadata": {},
     "output_type": "execute_result"
    }
   ],
   "source": [
    "print(\"Loading and Visualizing Data ...\")\n",
    "\n",
    "data = scio.loadmat(\"./ex6data3.mat\")\n",
    "X = np.array(data[\"X\"])\n",
    "y = np.array(data[\"y\"])\n",
    "Xval = np.array(data[\"Xval\"])\n",
    "yval = np.array(data[\"yval\"])\n",
    "\n",
    "# Plot training data\n",
    "plot_data(X, y)\n",
    "plt.show()\n",
    "input(\"Program paused. Press enter to continue.\")"
   ],
   "metadata": {
    "collapsed": false
   }
  },
  {
   "cell_type": "code",
   "execution_count": null,
   "outputs": [],
   "source": [],
   "metadata": {
    "collapsed": false
   }
  }
 ],
 "metadata": {
  "kernelspec": {
   "display_name": "Python 3",
   "language": "python",
   "name": "python3"
  },
  "language_info": {
   "codemirror_mode": {
    "name": "ipython",
    "version": 2
   },
   "file_extension": ".py",
   "mimetype": "text/x-python",
   "name": "python",
   "nbconvert_exporter": "python",
   "pygments_lexer": "ipython2",
   "version": "2.7.6"
  }
 },
 "nbformat": 4,
 "nbformat_minor": 0
}
